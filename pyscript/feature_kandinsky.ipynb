{
  "nbformat": 4,
  "nbformat_minor": 0,
  "metadata": {
    "colab": {
      "name": "feature kandinsky.ipynb",
      "provenance": [],
      "collapsed_sections": [],
      "authorship_tag": "ABX9TyM185zbB6hgevGSE3ihwuiM",
      "include_colab_link": true
    },
    "kernelspec": {
      "name": "python3",
      "display_name": "Python 3"
    }
  },
  "cells": [
    {
      "cell_type": "markdown",
      "metadata": {
        "id": "view-in-github",
        "colab_type": "text"
      },
      "source": [
        "<a href=\"https://colab.research.google.com/github/CeciliaMarson/CPAC-P3-Kandinsky/blob/main/pyscript/feature_kandinsky.ipynb\" target=\"_parent\"><img src=\"https://colab.research.google.com/assets/colab-badge.svg\" alt=\"Open In Colab\"/></a>"
      ]
    },
    {
      "cell_type": "code",
      "metadata": {
        "id": "-24GKCHZP27i"
      },
      "source": [
        "import numpy as np\r\n",
        "import librosa, librosa.display\r\n",
        "import scipy.fftpack as sf\r\n",
        "from scipy import signal\r\n",
        "import matplotlib.pyplot as plt\r\n",
        "\r\n"
      ],
      "execution_count": 1,
      "outputs": []
    },
    {
      "cell_type": "code",
      "metadata": {
        "id": "8sPIkQjOP5QY"
      },
      "source": [
        "def feature_extractor(signal, frame_length):\r\n",
        "    features = []\r\n",
        "\r\n",
        "    #on set detection is used to choose if a shape is a line or a figure\r\n",
        "    oenv = librosa.onset.onset_strength(y=signal, sr=sr, hop_length=frame_length)\r\n",
        "    on_set=np.expand_dims(oenv,axis=0)\r\n",
        "\r\n",
        "    #Needed for stroke\r\n",
        "    zcr = librosa.feature.zero_crossing_rate(signal, frame_length, frame_length)\r\n",
        "    #Needed for the first dimesion\r\n",
        "    s_centroid = librosa.feature.spectral_centroid(signal, hop_length = frame_length, win_length = frame_length, n_fft=frame_length)\r\n",
        "    \r\n",
        "    #The higher value note in the chromogram is needed for choosing the shape \r\n",
        "    #The second and the third one complete the chord... the three together choose the color\r\n",
        "    chroma_key0, max_c=extract_max_chroma(signal,frame_length,0)\r\n",
        "    chroma_key1=extract_max_chroma(signal,frame_length,1)\r\n",
        "    chroma_key2=extract_max_chroma(signal,frame_length,2)\r\n",
        "\r\n",
        "    \r\n",
        "    #entropy_s=entropy.spectral_entropy(signal,method='fft',nperseg=frame_length)\r\n",
        "    chroma0=np.expand_dims(chroma_key0, axis=0)\r\n",
        "    chroma1=np.expand_dims(chroma_key1, axis=0)\r\n",
        "    chroma2=np.expand_dims(chroma_key2, axis=0)\r\n",
        "    max_ch=np.expand_dims(max_c, axis=0)\r\n",
        "\r\n",
        "    note=np.zeros((12,1))\r\n",
        "    for c in max_ch.T:\r\n",
        "      note[c]=note[c]+1\r\n",
        "    \r\n",
        "    f_min=np.argmin(note)\r\n",
        "    shap=assign_shape(on_set, max_ch, f_min)\r\n",
        "    shapes=np.expand_dims(shap, axis=0)\r\n",
        "\r\n",
        "    print(shapes.shape)\r\n",
        "    #pitch is used for second dimension and position \r\n",
        "    pitch=detect_pitch(signal,frame_length)\r\n",
        "    pitch=np.expand_dims(pitch, axis=0)\r\n",
        "\r\n",
        "    #energy is used to computet the transparency of the image\r\n",
        "    energy=librosa.feature.rms(y=signal, hop_length=frame_length)\r\n",
        "\r\n",
        "    #features.append(on_set)\r\n",
        "    features.append(shapes)\r\n",
        "    features.append(zcr)\r\n",
        "    features.append(s_centroid)\r\n",
        "    features.append(chroma0)\r\n",
        "    features.append(chroma1)\r\n",
        "    features.append(chroma2)\r\n",
        "    #features.append(max_ch)\r\n",
        "    features.append(pitch)\r\n",
        "    features.append(energy)\r\n",
        "\r\n",
        "    return np.array(features), f_min\r\n",
        "\r\n",
        "\r\n"
      ],
      "execution_count": 79,
      "outputs": []
    },
    {
      "cell_type": "code",
      "metadata": {
        "id": "FyDn9sh9UMUz"
      },
      "source": [
        "def assign_shape(onset, max_ch, f_min):\r\n",
        "  shapes=[]\r\n",
        "  for i, j in enumerate(onset.T):\r\n",
        "    if((f_min==max_ch.T[i]) & (j>5)):\r\n",
        "      shape=9  #special condition for grid\r\n",
        "    else:\r\n",
        "      if(j>5): #lines\r\n",
        "        print(j)\r\n",
        "        shape=max_ch.T[i]%3\r\n",
        "      else:    #fill figure\r\n",
        "        shape=(max_ch.T[i]%6)+3\r\n",
        "    \r\n",
        "    shapes.append(shape)\r\n",
        "  return np.array(shapes)"
      ],
      "execution_count": 88,
      "outputs": []
    },
    {
      "cell_type": "code",
      "metadata": {
        "id": "IrNLmVMhVA7d"
      },
      "source": [
        "def create_dict(arr, f_min):\r\n",
        "    out = [{#'Background': strumento principale, \r\n",
        "    #'Figure fill': int((c[0]<=5)), #choose if less \"rythmic\"\r\n",
        "    #'Figure line': int((c[0]>5)),  #choose if \"rythmic\"\r\n",
        "    'Shape': int(c[0]), #based on note\r\n",
        "    'R': int(c[3]*255), #based on value of max note (chord)\r\n",
        "    'B': int(c[4]*255), #based on value of second max note (chord)\r\n",
        "    'G': int(c[5]*255), #based on value of third max note (chord)\r\n",
        "    'Y_dim':int(c[2]), #based on brigthness\r\n",
        "    'Stroke':int(c[1]*100), #based on \"rougthness\"\r\n",
        "    'X_dim':int(c[6]), #Based on Pitch\r\n",
        "    'Transparency':float(c[7]*10), #based on the energy of the track\r\n",
        "    #'Grid': int((f_min==c[6])&((c[0]>5))) #less frequent note in figure line mode\r\n",
        "        } for c in arr.T]\r\n",
        "    return out"
      ],
      "execution_count": 61,
      "outputs": []
    },
    {
      "cell_type": "code",
      "metadata": {
        "id": "a0ZN8HzGP-Qp"
      },
      "source": [
        "def extract_max_chroma(signal, frame_length, num):\r\n",
        "    max_chroma=[]\r\n",
        "    max_arg=[]\r\n",
        "    chroma = librosa.feature.chroma_stft(y=signal, hop_length=frame_length, win_length=frame_length)\r\n",
        "\r\n",
        "    for c in chroma.T:\r\n",
        "        max_a=np.argmax(c)\r\n",
        "        c_frame=np.sort(c)\r\n",
        "        max_chroma.append(c_frame[num])\r\n",
        "        max_arg.append(max_a)\r\n",
        "    if(num==0):\r\n",
        "      return np.array(max_chroma),np.array(max_arg)\r\n",
        "    return np.array(max_chroma)"
      ],
      "execution_count": 54,
      "outputs": []
    },
    {
      "cell_type": "code",
      "metadata": {
        "id": "oqb09ic4QAY4"
      },
      "source": [
        "def detect_pitch(y, frame_length):\r\n",
        "    S=librosa.stft(y=y,hop_length=2048,win_length=2048, center='false')\r\n",
        "    Xmag=librosa.amplitude_to_db(np.abs(S))\r\n",
        "    pitches, magnitudes = librosa.piptrack(S=Xmag, fmin=80, fmax=1000)\r\n",
        "    pitch=[]\r\n",
        "    for i,mag in enumerate(magnitudes.T):\r\n",
        "        index = mag.argmax()  \r\n",
        "        pitch.append(pitches[index][i])\r\n",
        "    \r\n",
        "    return np.array(pitch)"
      ],
      "execution_count": 55,
      "outputs": []
    },
    {
      "cell_type": "code",
      "metadata": {
        "id": "yR6Y-vjBU6JO"
      },
      "source": [
        "x,sr=librosa.load(\"Loops.wav\",sr=None)\r\n",
        "frame_l=sr*110\r\n",
        "audio_features, f_min=feature_extractor(x,2048)\r\n",
        "audio_features.shape"
      ],
      "execution_count": null,
      "outputs": []
    },
    {
      "cell_type": "code",
      "metadata": {
        "id": "1Gfyl2Trb9sJ"
      },
      "source": [
        "\r\n",
        "features=np.reshape(audio_features,(audio_features.shape[0],audio_features.shape[2]))\r\n",
        "for i,c in enumerate(features.T):\r\n",
        "  if(c[0]<3):\r\n",
        "    print(c[0])\r\n",
        "feat=create_dict(features, f_min)\r\n"
      ],
      "execution_count": null,
      "outputs": []
    },
    {
      "cell_type": "code",
      "metadata": {
        "id": "WGYbUI2IVUFs"
      },
      "source": [
        "print(feat)\r\n"
      ],
      "execution_count": null,
      "outputs": []
    },
    {
      "cell_type": "code",
      "metadata": {
        "id": "hfwR2aek0q-n"
      },
      "source": [
        ""
      ],
      "execution_count": null,
      "outputs": []
    }
  ]
}