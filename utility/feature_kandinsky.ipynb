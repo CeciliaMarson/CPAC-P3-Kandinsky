{
  "nbformat": 4,
  "nbformat_minor": 0,
  "metadata": {
    "colab": {
      "name": "feature kandinsky.ipynb",
      "provenance": [],
      "collapsed_sections": [],
      "authorship_tag": "ABX9TyNrDElwmvc+yqprbWmLtq5d",
      "include_colab_link": true
    },
    "kernelspec": {
      "name": "python3",
      "display_name": "Python 3"
    }
  },
  "cells": [
    {
      "cell_type": "markdown",
      "metadata": {
        "id": "view-in-github",
        "colab_type": "text"
      },
      "source": [
        "<a href=\"https://colab.research.google.com/github/CeciliaMarson/CPAC-P3-Kandinsky/blob/main/utility/feature_kandinsky.ipynb\" target=\"_parent\"><img src=\"https://colab.research.google.com/assets/colab-badge.svg\" alt=\"Open In Colab\"/></a>"
      ]
    },
    {
      "cell_type": "code",
      "metadata": {
        "id": "-24GKCHZP27i"
      },
      "source": [
        "import numpy as np\r\n",
        "import librosa, librosa.display\r\n",
        "import scipy.fftpack as sf\r\n",
        "from scipy import signal\r\n",
        "import matplotlib.pyplot as plt\r\n",
        "\r\n"
      ],
      "execution_count": 1,
      "outputs": []
    },
    {
      "cell_type": "code",
      "metadata": {
        "id": "8sPIkQjOP5QY"
      },
      "source": [
        "def feature_extractor(signal, frame_length):\r\n",
        "    features = []\r\n",
        "\r\n",
        "    #on set detection is used to choose if a shape is a line or a figure\r\n",
        "    oenv = librosa.onset.onset_strength(y=signal, sr=sr, hop_length=frame_length)\r\n",
        "    on_set=np.expand_dims(oenv,axis=0)\r\n",
        "\r\n",
        "    #Needed for stroke\r\n",
        "    zcr = librosa.feature.zero_crossing_rate(signal, frame_length, frame_length)\r\n",
        "    #Needed for the first dimesion\r\n",
        "    s_centroid = librosa.feature.spectral_centroid(signal, hop_length = frame_length, win_length = frame_length, n_fft=frame_length)\r\n",
        "    \r\n",
        "    #The higher value note in the chromogram is needed for choosing the shape \r\n",
        "    #The second and the third one complete the chord... the three together choose the color\r\n",
        "    chroma_key0, max_0=extract_max_chroma(signal,frame_length,0)\r\n",
        "    chroma_key1, max_1=extract_max_chroma(signal,frame_length,1)\r\n",
        "    chroma_key2, max_2=extract_max_chroma(signal,frame_length,2)\r\n",
        "    \r\n",
        "    \r\n",
        "\r\n",
        "    chroma0=np.expand_dims(chroma_key0, axis=0)\r\n",
        "    chroma1=np.expand_dims(chroma_key1, axis=0)\r\n",
        "    chroma2=np.expand_dims(chroma_key2, axis=0)\r\n",
        "    max_ch=np.expand_dims(max_0, axis=0)\r\n",
        "\r\n",
        "    note=np.zeros((12,1))\r\n",
        "    for c in max_ch.T:\r\n",
        "      note[c]=note[c]+1\r\n",
        "    \r\n",
        "    f_min=np.argmin(note)\r\n",
        "\r\n",
        "    #indicative if the principal chords is major, minor or not clear\r\n",
        "    chords=major_minor(signal, frame_length)\r\n",
        "\r\n",
        "    #assign a primary color based on the position of the higher note in respect to the others\r\n",
        "    colors=prevalent_color(max_0,max_1,max_2)\r\n",
        "\r\n",
        "    #the shape is choosen using infomation from the chroma and from the onset detection \r\n",
        "    shap=assign_shape(on_set, max_ch, chords, colors, f_min)\r\n",
        "    shapes=np.expand_dims(shap, axis=0)\r\n",
        "\r\n",
        "    #pitch is used for second dimension and position \r\n",
        "    pitch=detect_pitch(signal,frame_length)\r\n",
        "    pitch=np.expand_dims(pitch, axis=0)\r\n",
        "\r\n",
        "    #energy is used to computet the transparency of the image\r\n",
        "    energy=librosa.feature.rms(y=signal, hop_length=frame_length)\r\n",
        "    \r\n",
        "    \r\n",
        "    \r\n",
        "\r\n",
        "    RGB=RGB_offset(colors, chroma0, max_0, chroma1, max_1, chroma2, max_2)\r\n",
        "    \r\n",
        "    RGB=RGB.reshape(RGB.shape[0],RGB.shape[1])\r\n",
        "    \r\n",
        "    features.append(shapes)\r\n",
        "    features.append(zcr)\r\n",
        "    features.append(s_centroid)\r\n",
        "    features.append(np.expand_dims(RGB[0], axis=0))\r\n",
        "    features.append(np.expand_dims(RGB[1], axis=0))\r\n",
        "    features.append(np.expand_dims(RGB[2], axis=0))\r\n",
        "    features.append(pitch)\r\n",
        "    features.append(energy)\r\n",
        "\r\n",
        "    return np.array(features)\r\n",
        "\r\n",
        "\r\n"
      ],
      "execution_count": 2,
      "outputs": []
    },
    {
      "cell_type": "code",
      "metadata": {
        "id": "YZKxAhFIqw_P"
      },
      "source": [
        "def prevalent_color(A,B,C):\r\n",
        "  colors=[]\r\n",
        "  for i,a in enumerate(A):\r\n",
        "    b=B[i]\r\n",
        "    c=C[i]\r\n",
        "    if((a<b) & (a<c)):\r\n",
        "      color=0\r\n",
        "    if(((a>b) & (a<c)) | ((a<b) & (a>c))):\r\n",
        "      color=1\r\n",
        "    if((a>b) & (a>c)):\r\n",
        "      color=2\r\n",
        "    colors.append(color)\r\n",
        "  return np.array(colors)"
      ],
      "execution_count": 3,
      "outputs": []
    },
    {
      "cell_type": "code",
      "metadata": {
        "id": "cGoRZ5LirOIq"
      },
      "source": [
        "def RGB_offset(colors, chroma0, max_0, chroma1, max_1, chroma2, max_2):\r\n",
        "  RGB=[]\r\n",
        "  R=[]\r\n",
        "  G=[]\r\n",
        "  B=[]\r\n",
        "  for i,c in enumerate(colors):\r\n",
        "    if(c==0):\r\n",
        "      if(max_1[i]<max_2[i]):\r\n",
        "        r=chroma0.T[i]\r\n",
        "        g=chroma1.T[i]\r\n",
        "        b=chroma2.T[i]\r\n",
        "      else:\r\n",
        "        r=chroma0.T[i]\r\n",
        "        g=chroma2.T[i]\r\n",
        "        b=chroma1.T[i]\r\n",
        "    if(c==1):\r\n",
        "      if(max_1[i]<max_2[i]):\r\n",
        "        r=chroma1.T[i]\r\n",
        "        g=chroma0.T[i]\r\n",
        "        b=chroma2.T[i]\r\n",
        "      else:\r\n",
        "        r=chroma2.T[i]\r\n",
        "        g=chroma0.T[i]\r\n",
        "        b=chroma1.T[i]\r\n",
        "    if(c==2):\r\n",
        "      if(max_1[i]<max_2[i]):\r\n",
        "        r=chroma1.T[i]\r\n",
        "        g=chroma2.T[i]\r\n",
        "        b=chroma0.T[i]\r\n",
        "      else:\r\n",
        "        r=chroma2.T[i]\r\n",
        "        g=chroma1.T[i]\r\n",
        "        b=chroma0.T[i]\r\n",
        "    R.append(r)\r\n",
        "    G.append(g)\r\n",
        "    B.append(b)\r\n",
        "  RGB.append(R)\r\n",
        "  RGB.append(G)\r\n",
        "  RGB.append(B)\r\n",
        "  return np.array(RGB)\r\n",
        "\r\n"
      ],
      "execution_count": 4,
      "outputs": []
    },
    {
      "cell_type": "code",
      "metadata": {
        "id": "mfWBzdVKanDz"
      },
      "source": [
        "def major_minor(signal, frame_length):\r\n",
        "    max_chroma=[]\r\n",
        "    max_arg=[]\r\n",
        "    chroma = librosa.feature.chroma_stft(y=signal, hop_length=frame_length, win_length=frame_length)\r\n",
        "    chords=[]\r\n",
        "    for c in chroma.T:\r\n",
        "        \r\n",
        "       \r\n",
        "       \r\n",
        "        mean=np.mean(c)\r\n",
        "        max_a=np.argmax(c)\r\n",
        "        third=(max_a+4)%12\r\n",
        "        fifth=(max_a+7)%12\r\n",
        "        minor=(max_a+3)%12\r\n",
        "        if(third>minor):\r\n",
        "          if((c[third]>=mean) | (c[fifth]>=mean)):\r\n",
        "            key=0\r\n",
        "          else: key=2\r\n",
        "        else:\r\n",
        "          if((c[minor]>=mean) | (c[fifth] >=mean)):\r\n",
        "            key=1\r\n",
        "          else: key=2\r\n",
        "        chords.append(key)\r\n",
        "    return np.array(chords) \r\n",
        "        \r\n",
        "    "
      ],
      "execution_count": 5,
      "outputs": []
    },
    {
      "cell_type": "code",
      "metadata": {
        "id": "FyDn9sh9UMUz"
      },
      "source": [
        "def assign_shape(onset, max_ch, chords, color, f_min):\r\n",
        "  shapes=[]\r\n",
        "  for i, j in enumerate(onset.T):\r\n",
        "    if((f_min==max_ch.T[i])):\r\n",
        "      shape=9  #special condition for grid\r\n",
        "    else:\r\n",
        "      if(j>5): #lines\r\n",
        "        shape=chords[i]\r\n",
        "      else:    #fill figure\r\n",
        "        if(chords[i]==0):\r\n",
        "          if(color[i]==0):\r\n",
        "            shape=3;\r\n",
        "          if(color[i]==1):\r\n",
        "            shape=4\r\n",
        "          if(color[i]==2):\r\n",
        "            shape=5\r\n",
        "        if(chords[i]==1):\r\n",
        "          if(color[i]==0):\r\n",
        "            shape=6;\r\n",
        "          if(color[i]==1):\r\n",
        "            shape=7\r\n",
        "          if(color[i]==2):\r\n",
        "            shape=8\r\n",
        "        if(chords[i]==2): \r\n",
        "          shape=int(max_ch.T[i]%6)+3\r\n",
        "    shapes.append(shape)   \r\n",
        "  return np.array(shapes)"
      ],
      "execution_count": 49,
      "outputs": []
    },
    {
      "cell_type": "code",
      "metadata": {
        "id": "a0ZN8HzGP-Qp"
      },
      "source": [
        "def extract_max_chroma(signal, frame_length, num):\r\n",
        "    max_chroma=[]\r\n",
        "    max_arg=[]\r\n",
        "    chroma = librosa.feature.chroma_stft(y=signal, hop_length=frame_length, win_length=frame_length)\r\n",
        "\r\n",
        "    for c in chroma.T:\r\n",
        "        max_a=np.argsort(c)\r\n",
        "        c_frame=np.sort(c)\r\n",
        "        max_chroma.append(c_frame[11-num])\r\n",
        "        max_arg.append(max_a[11-num])\r\n",
        "        \r\n",
        "    return np.array(max_chroma),np.array(max_arg)\r\n",
        "    "
      ],
      "execution_count": 7,
      "outputs": []
    },
    {
      "cell_type": "code",
      "metadata": {
        "id": "oqb09ic4QAY4"
      },
      "source": [
        "def detect_pitch(y, frame_length):\r\n",
        "    S=librosa.stft(y=y,hop_length=2048,win_length=2048, center='false')\r\n",
        "    Xmag=librosa.amplitude_to_db(np.abs(S))\r\n",
        "    pitches, magnitudes = librosa.piptrack(S=Xmag, fmin=80, fmax=1000)\r\n",
        "    pitch=[]\r\n",
        "    for i,mag in enumerate(magnitudes.T):\r\n",
        "        index = mag.argmax()  \r\n",
        "        pitch.append(pitches[index][i])\r\n",
        "    \r\n",
        "    return np.array(pitch)"
      ],
      "execution_count": 8,
      "outputs": []
    },
    {
      "cell_type": "code",
      "metadata": {
        "id": "IrNLmVMhVA7d"
      },
      "source": [
        "def create_dict(arr):\r\n",
        "    out = [{ \r\n",
        "    'Shape': int(c[0]), #based on note\r\n",
        "    'R': int(c[3]*255), #based on value of max note (chord)\r\n",
        "    'B': int(c[4]*255), #based on value of second max note (chord)\r\n",
        "    'G': int(c[5]*255), #based on value of third max note (chord)\r\n",
        "    'Y_dim':int(c[7]*1000), #based on energy\r\n",
        "    'Stroke':int(c[1]*100), #based on \"rougthness\"\r\n",
        "    'X_dim':int(c[6]), #Based on Pitch\r\n",
        "    'Transparency':float(c[2]/100), #based on brightness\r\n",
        "        } for c in arr.T]\r\n",
        "    return out\r\n",
        "\r\n",
        "\r\n",
        "    #Shape indices:\r\n",
        "    #Arc=0,Line=1,Wave=2,Square=3,ArcFill=4,Circle=5,Rect=6,Triangle=7,Ellipse=8,Grid=9"
      ],
      "execution_count": null,
      "outputs": []
    },
    {
      "cell_type": "code",
      "metadata": {
        "id": "yR6Y-vjBU6JO",
        "colab": {
          "base_uri": "https://localhost:8080/"
        },
        "outputId": "53813e1a-6c1d-4ffe-ebf1-6229073e4e9b"
      },
      "source": [
        "names=[\"Astoria\", \"Defective Bleeding\", \"Glass Bottles\", \"Iron Lion\", \"Loops\", \"Music Box\", \"Pax 6\", \"We Make Our Own Holidays\"]\r\n",
        "\r\n",
        "\r\n",
        "features=[]\r\n",
        "\r\n",
        "x1,sr=librosa.load( \"This One Is for You.wav\",sr=None)\r\n",
        "a_feat=feature_extractor(x1,2048)\r\n",
        "print(a_feat.shape)\r\n",
        "a_feat=np.reshape(a_feat,(a_feat.shape[0],a_feat.shape[2]))\r\n",
        "for n in names:\r\n",
        "  x,sr=librosa.load(n+\".wav\",sr=None)\r\n",
        "  audio_features=feature_extractor(x,2048)\r\n",
        "  audio_features=np.reshape(audio_features,(audio_features.shape[0],audio_features.shape[2]))\r\n",
        "  features.append(audio_features)\r\n",
        "\r\n",
        "\r\n",
        "\r\n",
        "\r\n"
      ],
      "execution_count": 50,
      "outputs": [
        {
          "output_type": "stream",
          "text": [
            "(8, 1, 641)\n"
          ],
          "name": "stdout"
        }
      ]
    },
    {
      "cell_type": "code",
      "metadata": {
        "id": "4lzkuFC9-sqF"
      },
      "source": [
        "features=np.asarray(features)"
      ],
      "execution_count": 51,
      "outputs": []
    },
    {
      "cell_type": "code",
      "metadata": {
        "id": "1Gfyl2Trb9sJ",
        "colab": {
          "base_uri": "https://localhost:8080/"
        },
        "outputId": "70b35a3f-5a6e-455f-8190-d49dfb11d89f"
      },
      "source": [
        "\r\n",
        "for i,s in enumerate(features):\r\n",
        "  print(names[i])\r\n",
        "  count=0\r\n",
        "  count2=0\r\n",
        "  for j,c in enumerate(s.T):\r\n",
        "    if(c[0]<3):\r\n",
        "      count+=1\r\n",
        "    if(c[0]==9):\r\n",
        "      count2+=1\r\n",
        "  print(\"Line\")\r\n",
        "  print(count)\r\n",
        "  print(\"Grid\")\r\n",
        "  print(count2)\r\n",
        "    \r\n",
        "\r\n",
        "feat=np.array(feat)\r\n",
        "print(\"This One Is for You\")\r\n",
        "count=0\r\n",
        "count2=0\r\n",
        "for j,c in enumerate(a_feat.T):\r\n",
        "    if(c[0]<3):\r\n",
        "      count+=1\r\n",
        "    if(c[0]==9):\r\n",
        "      count2+=1\r\n",
        "\r\n",
        "print(\"Line\")\r\n",
        "print(count)\r\n",
        "print(\"Grid\")\r\n",
        "print(count2)\r\n",
        "    \r\n",
        "#feat=create_dict(features)\r\n"
      ],
      "execution_count": 53,
      "outputs": [
        {
          "output_type": "stream",
          "text": [
            "Astoria\n",
            "Line\n",
            "73\n",
            "Grid\n",
            "4\n",
            "Defective Bleeding\n",
            "Line\n",
            "15\n",
            "Grid\n",
            "2\n",
            "Glass Bottles\n",
            "Line\n",
            "77\n",
            "Grid\n",
            "0\n",
            "Iron Lion\n",
            "Line\n",
            "25\n",
            "Grid\n",
            "14\n",
            "Loops\n",
            "Line\n",
            "29\n",
            "Grid\n",
            "5\n",
            "Music Box\n",
            "Line\n",
            "40\n",
            "Grid\n",
            "1\n",
            "Pax 6\n",
            "Line\n",
            "24\n",
            "Grid\n",
            "2\n",
            "We Make Our Own Holidays\n",
            "Line\n",
            "100\n",
            "Grid\n",
            "6\n",
            "This One Is for You\n",
            "Line\n",
            "94\n",
            "Grid\n",
            "4\n"
          ],
          "name": "stdout"
        }
      ]
    },
    {
      "cell_type": "code",
      "metadata": {
        "id": "WGYbUI2IVUFs"
      },
      "source": [
        "print(feat)\r\n"
      ],
      "execution_count": null,
      "outputs": []
    },
    {
      "cell_type": "code",
      "metadata": {
        "id": "hfwR2aek0q-n"
      },
      "source": [
        ""
      ],
      "execution_count": null,
      "outputs": []
    }
  ]
}